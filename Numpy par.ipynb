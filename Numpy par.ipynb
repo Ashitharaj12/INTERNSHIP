{
 "cells": [
  {
   "cell_type": "markdown",
   "id": "973be283-8726-403b-8ee2-3c5b65368f4c",
   "metadata": {},
   "source": [
    "# Day 3"
   ]
  },
  {
   "cell_type": "code",
   "execution_count": 2,
   "id": "5a84c3ad-4988-4cd4-b4be-7a853b9ab5d0",
   "metadata": {},
   "outputs": [
    {
     "name": "stdout",
     "output_type": "stream",
     "text": [
      "Energy Consumptionin mwh for different energy sources:\n"
     ]
    },
    {
     "data": {
      "text/plain": [
       "array([1200, 3400, 2900, 1800, 2500])"
      ]
     },
     "execution_count": 2,
     "metadata": {},
     "output_type": "execute_result"
    }
   ],
   "source": [
    "import numpy as np\n",
    "\n",
    "\n",
    "energy_consumption=np.array([1200, 3400, 2900, 1800, 2500])\n",
    "print(\"Energy Consumptionin mwh for different energy sources:\")\n",
    "energy_consumption"
   ]
  },
  {
   "cell_type": "markdown",
   "id": "16dbe0c3-200c-4f84-be75-6365d5426291",
   "metadata": {},
   "source": [
    "#### Calculate the total energy consumption"
   ]
  },
  {
   "cell_type": "code",
   "execution_count": 4,
   "id": "9ebe4d2d-e1b8-4459-901c-34fc98b0f90b",
   "metadata": {},
   "outputs": [
    {
     "name": "stdout",
     "output_type": "stream",
     "text": [
      "The total energy consumption is 11800 in mwh\n"
     ]
    }
   ],
   "source": [
    "total_consumption = np.sum(energy_consumption)\n",
    "print(f'The total energy consumption is {total_consumption} in mwh')"
   ]
  },
  {
   "cell_type": "markdown",
   "id": "49f78e75-2475-4ee9-9fc7-8056681620e3",
   "metadata": {},
   "source": [
    "#### Calculate the mean energy consumption "
   ]
  },
  {
   "cell_type": "code",
   "execution_count": 6,
   "id": "05f27b05-1f7a-40be-83f5-c34492983fcc",
   "metadata": {},
   "outputs": [
    {
     "name": "stdout",
     "output_type": "stream",
     "text": [
      "The mean energy consumption is 2360.0 MWh\n"
     ]
    }
   ],
   "source": [
    "mean_consumption=np.mean(energy_consumption)\n",
    "print(f\"The mean energy consumption is {mean_consumption} MWh\")"
   ]
  },
  {
   "cell_type": "markdown",
   "id": "c086c5be-0c8c-4adc-92b4-9faff14b263c",
   "metadata": {},
   "source": [
    "#### Calculate the standard deviation of energy consumption "
   ]
  },
  {
   "cell_type": "code",
   "execution_count": 11,
   "id": "09dc3f13-1f5b-4e4f-bc04-313a494a9962",
   "metadata": {},
   "outputs": [
    {
     "data": {
      "text/plain": [
       "781.2809993849844"
      ]
     },
     "execution_count": 11,
     "metadata": {},
     "output_type": "execute_result"
    }
   ],
   "source": [
    "std_ec=np.std(energy_consumption)\n",
    "std_ec"
   ]
  },
  {
   "cell_type": "code",
   "execution_count": 13,
   "id": "e6ff952d-1aa2-4773-9416-1e6978cfee92",
   "metadata": {},
   "outputs": [
    {
     "name": "stdout",
     "output_type": "stream",
     "text": [
      "The standard deviation of energy consumption 781.2809993849844 MWh\n"
     ]
    }
   ],
   "source": [
    "print(f\"The standard deviation of energy consumption {std_ec} MWh\")"
   ]
  },
  {
   "cell_type": "markdown",
   "id": "ee2d021b-cb4a-4a37-9ab0-44e2323c0e57",
   "metadata": {},
   "source": [
    "#### Reshape the array"
   ]
  },
  {
   "cell_type": "code",
   "execution_count": 16,
   "id": "5741fb30-ec46-42f9-901c-d9636df0550a",
   "metadata": {},
   "outputs": [
    {
     "name": "stdout",
     "output_type": "stream",
     "text": [
      "Reshaped array is:\n",
      "[[1200]\n",
      " [3400]\n",
      " [2900]\n",
      " [1800]\n",
      " [2500]]\n"
     ]
    }
   ],
   "source": [
    "reshaped_array=energy_consumption.reshape((5,1))\n",
    "print(\"Reshaped array is:\")\n",
    "print(reshaped_array)"
   ]
  },
  {
   "cell_type": "markdown",
   "id": "2c2f3c57-56bf-4fd3-b42c-f24c3f2e2a21",
   "metadata": {},
   "source": [
    "### Data preprocessing"
   ]
  },
  {
   "cell_type": "code",
   "execution_count": 19,
   "id": "d56835d9-a59c-4b25-b560-a29cbab5a8fb",
   "metadata": {},
   "outputs": [],
   "source": [
    "import pandas as pd\n",
    "import numpy as np\n",
    "\n",
    "# Sample data with missing values\n",
    "data = {\n",
    "    \"Energy Source\": ['Solar', 'Wind', 'Hydropower', 'Geothermal', 'Biomass', 'Nuclear'],\n",
    "    \"Energy Consumption (MWh)\": [1200, np.nan, 2900, np.nan, 2500, 3200],\n",
    "    \"Cost (millions $)\": [200, 400, np.nan, 150, 250, np.nan]\n",
    "}\n"
   ]
  },
  {
   "cell_type": "markdown",
   "id": "aa3d9aa1-a227-40ca-9912-cbb88efaaf70",
   "metadata": {},
   "source": [
    "#### Create a DataFrame"
   ]
  },
  {
   "cell_type": "code",
   "execution_count": 22,
   "id": "e8cc4fa2-7494-4aef-a274-79e99ae5861c",
   "metadata": {},
   "outputs": [
    {
     "name": "stdout",
     "output_type": "stream",
     "text": [
      "  Energy Source  Energy Consumption (MWh)  Cost (millions $)\n",
      "0         Solar                    1200.0              200.0\n",
      "1          Wind                       NaN              400.0\n",
      "2    Hydropower                    2900.0                NaN\n",
      "3    Geothermal                       NaN              150.0\n",
      "4       Biomass                    2500.0              250.0\n",
      "5       Nuclear                    3200.0                NaN\n"
     ]
    }
   ],
   "source": [
    "df = pd.DataFrame(data)\n",
    "print(df)"
   ]
  },
  {
   "cell_type": "markdown",
   "id": "f172ae2e-a58b-4b0e-82e4-ace8e2a195af",
   "metadata": {},
   "source": [
    "## Handling the Missing Value:\n",
    "- Removing(drop) mv\n",
    "\n",
    "- impute(fill) mv - mean"
   ]
  },
  {
   "cell_type": "markdown",
   "id": "7078b2fe-7e01-482a-8f3b-22699eadd4c7",
   "metadata": {},
   "source": [
    "#### Remove rows with missing values "
   ]
  },
  {
   "cell_type": "code",
   "execution_count": 26,
   "id": "39585429-f7e7-4a2d-9c51-136df703c63b",
   "metadata": {},
   "outputs": [
    {
     "data": {
      "text/html": [
       "<div>\n",
       "<style scoped>\n",
       "    .dataframe tbody tr th:only-of-type {\n",
       "        vertical-align: middle;\n",
       "    }\n",
       "\n",
       "    .dataframe tbody tr th {\n",
       "        vertical-align: top;\n",
       "    }\n",
       "\n",
       "    .dataframe thead th {\n",
       "        text-align: right;\n",
       "    }\n",
       "</style>\n",
       "<table border=\"1\" class=\"dataframe\">\n",
       "  <thead>\n",
       "    <tr style=\"text-align: right;\">\n",
       "      <th></th>\n",
       "      <th>Energy Source</th>\n",
       "      <th>Energy Consumption (MWh)</th>\n",
       "      <th>Cost (millions $)</th>\n",
       "    </tr>\n",
       "  </thead>\n",
       "  <tbody>\n",
       "    <tr>\n",
       "      <th>0</th>\n",
       "      <td>Solar</td>\n",
       "      <td>1200.0</td>\n",
       "      <td>200.0</td>\n",
       "    </tr>\n",
       "    <tr>\n",
       "      <th>4</th>\n",
       "      <td>Biomass</td>\n",
       "      <td>2500.0</td>\n",
       "      <td>250.0</td>\n",
       "    </tr>\n",
       "  </tbody>\n",
       "</table>\n",
       "</div>"
      ],
      "text/plain": [
       "  Energy Source  Energy Consumption (MWh)  Cost (millions $)\n",
       "0         Solar                    1200.0              200.0\n",
       "4       Biomass                    2500.0              250.0"
      ]
     },
     "execution_count": 26,
     "metadata": {},
     "output_type": "execute_result"
    }
   ],
   "source": [
    "cleaned_df= df.dropna()\n",
    "cleaned_df"
   ]
  },
  {
   "cell_type": "markdown",
   "id": "9f146fe8-2603-44db-9e50-e20a3daf9ccf",
   "metadata": {},
   "source": [
    "## Imputation - to add or fill\n",
    " - with mean\n",
    "\n",
    " - forward/backward filling"
   ]
  },
  {
   "cell_type": "code",
   "execution_count": 33,
   "id": "79d34d5a-efbf-404e-bdac-9c2f92ce1274",
   "metadata": {},
   "outputs": [
    {
     "name": "stderr",
     "output_type": "stream",
     "text": [
      "C:\\Users\\parthan\\AppData\\Local\\Temp\\ipykernel_28464\\1149159332.py:2: FutureWarning: A value is trying to be set on a copy of a DataFrame or Series through chained assignment using an inplace method.\n",
      "The behavior will change in pandas 3.0. This inplace method will never work because the intermediate object on which we are setting values always behaves as a copy.\n",
      "\n",
      "For example, when doing 'df[col].method(value, inplace=True)', try using 'df.method({col: value}, inplace=True)' or df[col] = df[col].method(value) instead, to perform the operation inplace on the original object.\n",
      "\n",
      "\n",
      "  df[\"Energy Consumption (MWh)\"].fillna(df['Energy Consumption (MWh)']. mean(), inplace=True)\n",
      "C:\\Users\\parthan\\AppData\\Local\\Temp\\ipykernel_28464\\1149159332.py:3: FutureWarning: A value is trying to be set on a copy of a DataFrame or Series through chained assignment using an inplace method.\n",
      "The behavior will change in pandas 3.0. This inplace method will never work because the intermediate object on which we are setting values always behaves as a copy.\n",
      "\n",
      "For example, when doing 'df[col].method(value, inplace=True)', try using 'df.method({col: value}, inplace=True)' or df[col] = df[col].method(value) instead, to perform the operation inplace on the original object.\n",
      "\n",
      "\n",
      "  df[\"Cost (millions $)\"].fillna(df[\"Cost (millions $)\"].mean(), inplace=True)\n"
     ]
    },
    {
     "data": {
      "text/html": [
       "<div>\n",
       "<style scoped>\n",
       "    .dataframe tbody tr th:only-of-type {\n",
       "        vertical-align: middle;\n",
       "    }\n",
       "\n",
       "    .dataframe tbody tr th {\n",
       "        vertical-align: top;\n",
       "    }\n",
       "\n",
       "    .dataframe thead th {\n",
       "        text-align: right;\n",
       "    }\n",
       "</style>\n",
       "<table border=\"1\" class=\"dataframe\">\n",
       "  <thead>\n",
       "    <tr style=\"text-align: right;\">\n",
       "      <th></th>\n",
       "      <th>Energy Source</th>\n",
       "      <th>Energy Consumption (MWh)</th>\n",
       "      <th>Cost (millions $)</th>\n",
       "    </tr>\n",
       "  </thead>\n",
       "  <tbody>\n",
       "    <tr>\n",
       "      <th>0</th>\n",
       "      <td>Solar</td>\n",
       "      <td>1200.0</td>\n",
       "      <td>200.0</td>\n",
       "    </tr>\n",
       "    <tr>\n",
       "      <th>1</th>\n",
       "      <td>Wind</td>\n",
       "      <td>2450.0</td>\n",
       "      <td>400.0</td>\n",
       "    </tr>\n",
       "    <tr>\n",
       "      <th>2</th>\n",
       "      <td>Hydropower</td>\n",
       "      <td>2900.0</td>\n",
       "      <td>250.0</td>\n",
       "    </tr>\n",
       "    <tr>\n",
       "      <th>3</th>\n",
       "      <td>Geothermal</td>\n",
       "      <td>2450.0</td>\n",
       "      <td>150.0</td>\n",
       "    </tr>\n",
       "    <tr>\n",
       "      <th>4</th>\n",
       "      <td>Biomass</td>\n",
       "      <td>2500.0</td>\n",
       "      <td>250.0</td>\n",
       "    </tr>\n",
       "    <tr>\n",
       "      <th>5</th>\n",
       "      <td>Nuclear</td>\n",
       "      <td>3200.0</td>\n",
       "      <td>250.0</td>\n",
       "    </tr>\n",
       "  </tbody>\n",
       "</table>\n",
       "</div>"
      ],
      "text/plain": [
       "  Energy Source  Energy Consumption (MWh)  Cost (millions $)\n",
       "0         Solar                    1200.0              200.0\n",
       "1          Wind                    2450.0              400.0\n",
       "2    Hydropower                    2900.0              250.0\n",
       "3    Geothermal                    2450.0              150.0\n",
       "4       Biomass                    2500.0              250.0\n",
       "5       Nuclear                    3200.0              250.0"
      ]
     },
     "execution_count": 33,
     "metadata": {},
     "output_type": "execute_result"
    }
   ],
   "source": [
    "# Impute missing values with the mean for energy consumption\n",
    "df[\"Energy Consumption (MWh)\"].fillna(df['Energy Consumption (MWh)']. mean(), inplace=True)\n",
    "df[\"Cost (millions $)\"].fillna(df[\"Cost (millions $)\"].mean(), inplace=True)\n",
    "\n",
    "df"
   ]
  },
  {
   "cell_type": "markdown",
   "id": "17b16de0-844e-4658-911b-466ba570e8b6",
   "metadata": {},
   "source": [
    "### Forward filing missing values"
   ]
  },
  {
   "cell_type": "code",
   "execution_count": 36,
   "id": "e8d58aae-08f6-428c-a9b4-90c76bbd31f9",
   "metadata": {},
   "outputs": [
    {
     "name": "stderr",
     "output_type": "stream",
     "text": [
      "C:\\Users\\parthan\\AppData\\Local\\Temp\\ipykernel_28464\\4232562832.py:1: FutureWarning: DataFrame.fillna with 'method' is deprecated and will raise in a future version. Use obj.ffill() or obj.bfill() instead.\n",
      "  ff_df = df.fillna(method=\"ffill\")\n"
     ]
    },
    {
     "data": {
      "text/html": [
       "<div>\n",
       "<style scoped>\n",
       "    .dataframe tbody tr th:only-of-type {\n",
       "        vertical-align: middle;\n",
       "    }\n",
       "\n",
       "    .dataframe tbody tr th {\n",
       "        vertical-align: top;\n",
       "    }\n",
       "\n",
       "    .dataframe thead th {\n",
       "        text-align: right;\n",
       "    }\n",
       "</style>\n",
       "<table border=\"1\" class=\"dataframe\">\n",
       "  <thead>\n",
       "    <tr style=\"text-align: right;\">\n",
       "      <th></th>\n",
       "      <th>Energy Source</th>\n",
       "      <th>Energy Consumption (MWh)</th>\n",
       "      <th>Cost (millions $)</th>\n",
       "    </tr>\n",
       "  </thead>\n",
       "  <tbody>\n",
       "    <tr>\n",
       "      <th>0</th>\n",
       "      <td>Solar</td>\n",
       "      <td>1200.0</td>\n",
       "      <td>200.0</td>\n",
       "    </tr>\n",
       "    <tr>\n",
       "      <th>1</th>\n",
       "      <td>Wind</td>\n",
       "      <td>2450.0</td>\n",
       "      <td>400.0</td>\n",
       "    </tr>\n",
       "    <tr>\n",
       "      <th>2</th>\n",
       "      <td>Hydropower</td>\n",
       "      <td>2900.0</td>\n",
       "      <td>250.0</td>\n",
       "    </tr>\n",
       "    <tr>\n",
       "      <th>3</th>\n",
       "      <td>Geothermal</td>\n",
       "      <td>2450.0</td>\n",
       "      <td>150.0</td>\n",
       "    </tr>\n",
       "    <tr>\n",
       "      <th>4</th>\n",
       "      <td>Biomass</td>\n",
       "      <td>2500.0</td>\n",
       "      <td>250.0</td>\n",
       "    </tr>\n",
       "    <tr>\n",
       "      <th>5</th>\n",
       "      <td>Nuclear</td>\n",
       "      <td>3200.0</td>\n",
       "      <td>250.0</td>\n",
       "    </tr>\n",
       "  </tbody>\n",
       "</table>\n",
       "</div>"
      ],
      "text/plain": [
       "  Energy Source  Energy Consumption (MWh)  Cost (millions $)\n",
       "0         Solar                    1200.0              200.0\n",
       "1          Wind                    2450.0              400.0\n",
       "2    Hydropower                    2900.0              250.0\n",
       "3    Geothermal                    2450.0              150.0\n",
       "4       Biomass                    2500.0              250.0\n",
       "5       Nuclear                    3200.0              250.0"
      ]
     },
     "execution_count": 36,
     "metadata": {},
     "output_type": "execute_result"
    }
   ],
   "source": [
    "ff_df = df.fillna(method=\"ffill\")\n",
    "ff_df"
   ]
  },
  {
   "cell_type": "markdown",
   "id": "23280318-9256-488c-9ce5-db5035e98a9e",
   "metadata": {},
   "source": [
    "### Data Preprocessing - Normalization"
   ]
  },
  {
   "cell_type": "code",
   "execution_count": 39,
   "id": "0e110ce4-5679-455e-89ff-604529b4422d",
   "metadata": {},
   "outputs": [
    {
     "data": {
      "text/html": [
       "<div>\n",
       "<style scoped>\n",
       "    .dataframe tbody tr th:only-of-type {\n",
       "        vertical-align: middle;\n",
       "    }\n",
       "\n",
       "    .dataframe tbody tr th {\n",
       "        vertical-align: top;\n",
       "    }\n",
       "\n",
       "    .dataframe thead th {\n",
       "        text-align: right;\n",
       "    }\n",
       "</style>\n",
       "<table border=\"1\" class=\"dataframe\">\n",
       "  <thead>\n",
       "    <tr style=\"text-align: right;\">\n",
       "      <th></th>\n",
       "      <th>Energy Source</th>\n",
       "      <th>Energy Consumption (MWh)</th>\n",
       "      <th>Cost (millions $)</th>\n",
       "    </tr>\n",
       "  </thead>\n",
       "  <tbody>\n",
       "    <tr>\n",
       "      <th>0</th>\n",
       "      <td>Solar</td>\n",
       "      <td>0.000</td>\n",
       "      <td>0.2</td>\n",
       "    </tr>\n",
       "    <tr>\n",
       "      <th>1</th>\n",
       "      <td>Wind</td>\n",
       "      <td>0.625</td>\n",
       "      <td>1.0</td>\n",
       "    </tr>\n",
       "    <tr>\n",
       "      <th>2</th>\n",
       "      <td>Hydropower</td>\n",
       "      <td>0.850</td>\n",
       "      <td>0.4</td>\n",
       "    </tr>\n",
       "    <tr>\n",
       "      <th>3</th>\n",
       "      <td>Geothermal</td>\n",
       "      <td>0.625</td>\n",
       "      <td>0.0</td>\n",
       "    </tr>\n",
       "    <tr>\n",
       "      <th>4</th>\n",
       "      <td>Biomass</td>\n",
       "      <td>0.650</td>\n",
       "      <td>0.4</td>\n",
       "    </tr>\n",
       "    <tr>\n",
       "      <th>5</th>\n",
       "      <td>Nuclear</td>\n",
       "      <td>1.000</td>\n",
       "      <td>0.4</td>\n",
       "    </tr>\n",
       "  </tbody>\n",
       "</table>\n",
       "</div>"
      ],
      "text/plain": [
       "  Energy Source  Energy Consumption (MWh)  Cost (millions $)\n",
       "0         Solar                     0.000                0.2\n",
       "1          Wind                     0.625                1.0\n",
       "2    Hydropower                     0.850                0.4\n",
       "3    Geothermal                     0.625                0.0\n",
       "4       Biomass                     0.650                0.4\n",
       "5       Nuclear                     1.000                0.4"
      ]
     },
     "execution_count": 39,
     "metadata": {},
     "output_type": "execute_result"
    }
   ],
   "source": [
    "from sklearn.preprocessing import MinMaxScaler\n",
    "\n",
    "scaler = MinMaxScaler()\n",
    "df[[\"Energy Consumption (MWh)\", \"Cost (millions $)\"]] = scaler.fit_transform(df[[\"Energy Consumption (MWh)\", \"Cost (millions $)\"]])\n",
    "\n",
    "df"
   ]
  },
  {
   "cell_type": "code",
   "execution_count": 41,
   "id": "abd017ef-d27c-4de5-9a82-7b17c7f39608",
   "metadata": {},
   "outputs": [
    {
     "data": {
      "text/html": [
       "<div>\n",
       "<style scoped>\n",
       "    .dataframe tbody tr th:only-of-type {\n",
       "        vertical-align: middle;\n",
       "    }\n",
       "\n",
       "    .dataframe tbody tr th {\n",
       "        vertical-align: top;\n",
       "    }\n",
       "\n",
       "    .dataframe thead th {\n",
       "        text-align: right;\n",
       "    }\n",
       "</style>\n",
       "<table border=\"1\" class=\"dataframe\">\n",
       "  <thead>\n",
       "    <tr style=\"text-align: right;\">\n",
       "      <th></th>\n",
       "      <th>Energy Source</th>\n",
       "      <th>Energy Consumption (MWh)</th>\n",
       "      <th>Cost (millions $)</th>\n",
       "    </tr>\n",
       "  </thead>\n",
       "  <tbody>\n",
       "    <tr>\n",
       "      <th>0</th>\n",
       "      <td>Solar</td>\n",
       "      <td>-2.005893e+00</td>\n",
       "      <td>-6.546537e-01</td>\n",
       "    </tr>\n",
       "    <tr>\n",
       "      <th>1</th>\n",
       "      <td>Wind</td>\n",
       "      <td>3.563181e-16</td>\n",
       "      <td>1.963961e+00</td>\n",
       "    </tr>\n",
       "    <tr>\n",
       "      <th>2</th>\n",
       "      <td>Hydropower</td>\n",
       "      <td>7.221213e-01</td>\n",
       "      <td>1.817029e-16</td>\n",
       "    </tr>\n",
       "    <tr>\n",
       "      <th>3</th>\n",
       "      <td>Geothermal</td>\n",
       "      <td>3.563181e-16</td>\n",
       "      <td>-1.309307e+00</td>\n",
       "    </tr>\n",
       "    <tr>\n",
       "      <th>4</th>\n",
       "      <td>Biomass</td>\n",
       "      <td>8.023570e-02</td>\n",
       "      <td>1.817029e-16</td>\n",
       "    </tr>\n",
       "    <tr>\n",
       "      <th>5</th>\n",
       "      <td>Nuclear</td>\n",
       "      <td>1.203536e+00</td>\n",
       "      <td>1.817029e-16</td>\n",
       "    </tr>\n",
       "  </tbody>\n",
       "</table>\n",
       "</div>"
      ],
      "text/plain": [
       "  Energy Source  Energy Consumption (MWh)  Cost (millions $)\n",
       "0         Solar             -2.005893e+00      -6.546537e-01\n",
       "1          Wind              3.563181e-16       1.963961e+00\n",
       "2    Hydropower              7.221213e-01       1.817029e-16\n",
       "3    Geothermal              3.563181e-16      -1.309307e+00\n",
       "4       Biomass              8.023570e-02       1.817029e-16\n",
       "5       Nuclear              1.203536e+00       1.817029e-16"
      ]
     },
     "execution_count": 41,
     "metadata": {},
     "output_type": "execute_result"
    }
   ],
   "source": [
    "from sklearn.preprocessing import StandardScaler\n",
    "\n",
    "scaler = StandardScaler()\n",
    "\n",
    "df[['Energy Consumption (MWh)', 'Cost (millions $)']] = scaler.fit_transform(\n",
    "    df[['Energy Consumption (MWh)', 'Cost (millions $)']])\n",
    "df"
   ]
  },
  {
   "cell_type": "code",
   "execution_count": 43,
   "id": "54a33acb-0e02-4ddf-b7f2-73532bba99dc",
   "metadata": {},
   "outputs": [
    {
     "name": "stdout",
     "output_type": "stream",
     "text": [
      "   Energy Consumption (MWh)  Cost (millions $)  Energy Source_Biomass  \\\n",
      "0             -2.005893e+00      -6.546537e-01                  False   \n",
      "1              3.563181e-16       1.963961e+00                  False   \n",
      "2              7.221213e-01       1.817029e-16                  False   \n",
      "3              3.563181e-16      -1.309307e+00                  False   \n",
      "4              8.023570e-02       1.817029e-16                   True   \n",
      "5              1.203536e+00       1.817029e-16                  False   \n",
      "\n",
      "   Energy Source_Geothermal  Energy Source_Hydropower  Energy Source_Nuclear  \\\n",
      "0                     False                     False                  False   \n",
      "1                     False                     False                  False   \n",
      "2                     False                      True                  False   \n",
      "3                      True                     False                  False   \n",
      "4                     False                     False                  False   \n",
      "5                     False                     False                   True   \n",
      "\n",
      "   Energy Source_Solar  Energy Source_Wind  \n",
      "0                 True               False  \n",
      "1                False                True  \n",
      "2                False               False  \n",
      "3                False               False  \n",
      "4                False               False  \n",
      "5                False               False  \n"
     ]
    }
   ],
   "source": [
    "ohe_df = pd.get_dummies(df, columns=[\"Energy Source\"])\n",
    "print(ohe_df)"
   ]
  },
  {
   "cell_type": "markdown",
   "id": "3559ae32-d6de-45b3-8d4c-89fd2573830d",
   "metadata": {},
   "source": [
    "### Feature engineering"
   ]
  },
  {
   "cell_type": "code",
   "execution_count": 46,
   "id": "784c22d1-6504-4b73-a1e5-7e5c250e1920",
   "metadata": {},
   "outputs": [
    {
     "data": {
      "text/html": [
       "<div>\n",
       "<style scoped>\n",
       "    .dataframe tbody tr th:only-of-type {\n",
       "        vertical-align: middle;\n",
       "    }\n",
       "\n",
       "    .dataframe tbody tr th {\n",
       "        vertical-align: top;\n",
       "    }\n",
       "\n",
       "    .dataframe thead th {\n",
       "        text-align: right;\n",
       "    }\n",
       "</style>\n",
       "<table border=\"1\" class=\"dataframe\">\n",
       "  <thead>\n",
       "    <tr style=\"text-align: right;\">\n",
       "      <th></th>\n",
       "      <th>Energy Consumption (MWh)</th>\n",
       "      <th>Cost (millions $)</th>\n",
       "      <th>Energy Source_Biomass</th>\n",
       "      <th>Energy Source_Geothermal</th>\n",
       "      <th>Energy Source_Hydropower</th>\n",
       "      <th>Energy Source_Nuclear</th>\n",
       "      <th>Energy Source_Solar</th>\n",
       "      <th>Energy Source_Wind</th>\n",
       "      <th>Consumption per Million $</th>\n",
       "    </tr>\n",
       "  </thead>\n",
       "  <tbody>\n",
       "    <tr>\n",
       "      <th>0</th>\n",
       "      <td>-2.005893e+00</td>\n",
       "      <td>-6.546537e-01</td>\n",
       "      <td>False</td>\n",
       "      <td>False</td>\n",
       "      <td>False</td>\n",
       "      <td>False</td>\n",
       "      <td>True</td>\n",
       "      <td>False</td>\n",
       "      <td>3.064052e+00</td>\n",
       "    </tr>\n",
       "    <tr>\n",
       "      <th>1</th>\n",
       "      <td>3.563181e-16</td>\n",
       "      <td>1.963961e+00</td>\n",
       "      <td>False</td>\n",
       "      <td>False</td>\n",
       "      <td>False</td>\n",
       "      <td>False</td>\n",
       "      <td>False</td>\n",
       "      <td>True</td>\n",
       "      <td>1.814283e-16</td>\n",
       "    </tr>\n",
       "    <tr>\n",
       "      <th>2</th>\n",
       "      <td>7.221213e-01</td>\n",
       "      <td>1.817029e-16</td>\n",
       "      <td>False</td>\n",
       "      <td>False</td>\n",
       "      <td>True</td>\n",
       "      <td>False</td>\n",
       "      <td>False</td>\n",
       "      <td>False</td>\n",
       "      <td>3.974187e+15</td>\n",
       "    </tr>\n",
       "    <tr>\n",
       "      <th>3</th>\n",
       "      <td>3.563181e-16</td>\n",
       "      <td>-1.309307e+00</td>\n",
       "      <td>False</td>\n",
       "      <td>True</td>\n",
       "      <td>False</td>\n",
       "      <td>False</td>\n",
       "      <td>False</td>\n",
       "      <td>False</td>\n",
       "      <td>-2.721424e-16</td>\n",
       "    </tr>\n",
       "    <tr>\n",
       "      <th>4</th>\n",
       "      <td>8.023570e-02</td>\n",
       "      <td>1.817029e-16</td>\n",
       "      <td>True</td>\n",
       "      <td>False</td>\n",
       "      <td>False</td>\n",
       "      <td>False</td>\n",
       "      <td>False</td>\n",
       "      <td>False</td>\n",
       "      <td>4.415764e+14</td>\n",
       "    </tr>\n",
       "    <tr>\n",
       "      <th>5</th>\n",
       "      <td>1.203536e+00</td>\n",
       "      <td>1.817029e-16</td>\n",
       "      <td>False</td>\n",
       "      <td>False</td>\n",
       "      <td>False</td>\n",
       "      <td>True</td>\n",
       "      <td>False</td>\n",
       "      <td>False</td>\n",
       "      <td>6.623646e+15</td>\n",
       "    </tr>\n",
       "  </tbody>\n",
       "</table>\n",
       "</div>"
      ],
      "text/plain": [
       "   Energy Consumption (MWh)  Cost (millions $)  Energy Source_Biomass  \\\n",
       "0             -2.005893e+00      -6.546537e-01                  False   \n",
       "1              3.563181e-16       1.963961e+00                  False   \n",
       "2              7.221213e-01       1.817029e-16                  False   \n",
       "3              3.563181e-16      -1.309307e+00                  False   \n",
       "4              8.023570e-02       1.817029e-16                   True   \n",
       "5              1.203536e+00       1.817029e-16                  False   \n",
       "\n",
       "   Energy Source_Geothermal  Energy Source_Hydropower  Energy Source_Nuclear  \\\n",
       "0                     False                     False                  False   \n",
       "1                     False                     False                  False   \n",
       "2                     False                      True                  False   \n",
       "3                      True                     False                  False   \n",
       "4                     False                     False                  False   \n",
       "5                     False                     False                   True   \n",
       "\n",
       "   Energy Source_Solar  Energy Source_Wind  Consumption per Million $  \n",
       "0                 True               False               3.064052e+00  \n",
       "1                False                True               1.814283e-16  \n",
       "2                False               False               3.974187e+15  \n",
       "3                False               False              -2.721424e-16  \n",
       "4                False               False               4.415764e+14  \n",
       "5                False               False               6.623646e+15  "
      ]
     },
     "execution_count": 46,
     "metadata": {},
     "output_type": "execute_result"
    }
   ],
   "source": [
    "ohe_df[\"Consumption per Million $\"] = ohe_df['Energy Consumption (MWh)'] / ohe_df['Cost (millions $)']\n",
    "\n",
    "ohe_df"
   ]
  },
  {
   "cell_type": "code",
   "execution_count": null,
   "id": "2cb7f347-8493-40f9-b9ba-18ff9bd9f5b0",
   "metadata": {},
   "outputs": [],
   "source": []
  }
 ],
 "metadata": {
  "kernelspec": {
   "display_name": "Python 3 (ipykernel)",
   "language": "python",
   "name": "python3"
  },
  "language_info": {
   "codemirror_mode": {
    "name": "ipython",
    "version": 3
   },
   "file_extension": ".py",
   "mimetype": "text/x-python",
   "name": "python",
   "nbconvert_exporter": "python",
   "pygments_lexer": "ipython3",
   "version": "3.12.7"
  }
 },
 "nbformat": 4,
 "nbformat_minor": 5
}
