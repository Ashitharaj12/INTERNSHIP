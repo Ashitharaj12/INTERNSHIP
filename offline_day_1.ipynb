{
  "nbformat": 4,
  "nbformat_minor": 0,
  "metadata": {
    "colab": {
      "provenance": [],
      "authorship_tag": "ABX9TyP+LzP3PEo/izf+6Yck0NFJ",
      "include_colab_link": true
    },
    "kernelspec": {
      "name": "python3",
      "display_name": "Python 3"
    },
    "language_info": {
      "name": "python"
    }
  },
  "cells": [
    {
      "cell_type": "markdown",
      "metadata": {
        "id": "view-in-github",
        "colab_type": "text"
      },
      "source": [
        "<a href=\"https://colab.research.google.com/github/Ashitharaj12/INTERNSHIP/blob/main/offline_day_1.ipynb\" target=\"_parent\"><img src=\"https://colab.research.google.com/assets/colab-badge.svg\" alt=\"Open In Colab\"/></a>"
      ]
    },
    {
      "cell_type": "markdown",
      "source": [
        "***numpy libraries***"
      ],
      "metadata": {
        "id": "_TquJk8WLZ8Q"
      }
    },
    {
      "cell_type": "code",
      "source": [
        "import numpy as np\n",
        "np_array=np.array([1,2,3,4,5,6])\n",
        "print(np_array)"
      ],
      "metadata": {
        "colab": {
          "base_uri": "https://localhost:8080/"
        },
        "id": "Q6l_5dpCO_he",
        "outputId": "713ab316-bc90-4e37-b3fd-28dd2ed0bb70"
      },
      "execution_count": 10,
      "outputs": [
        {
          "output_type": "stream",
          "name": "stdout",
          "text": [
            "[1 2 3 4 5 6]\n"
          ]
        }
      ]
    },
    {
      "cell_type": "code",
      "source": [
        "b=np.array([(1,2,3,4,5),(6,7,8,9,10)])\n",
        "print(b)\n",
        "b.shape"
      ],
      "metadata": {
        "colab": {
          "base_uri": "https://localhost:8080/"
        },
        "id": "RcTIoT53K93u",
        "outputId": "6b7aa2b9-042e-4267-e48b-e2cf5efff422"
      },
      "execution_count": 3,
      "outputs": [
        {
          "output_type": "stream",
          "name": "stdout",
          "text": [
            "[[ 1  2  3  4  5]\n",
            " [ 6  7  8  9 10]]\n"
          ]
        },
        {
          "output_type": "execute_result",
          "data": {
            "text/plain": [
              "(2, 5)"
            ]
          },
          "metadata": {},
          "execution_count": 3
        }
      ]
    },
    {
      "cell_type": "code",
      "source": [
        "x=np.zeros((4,5))\n",
        "print(x)"
      ],
      "metadata": {
        "colab": {
          "base_uri": "https://localhost:8080/"
        },
        "id": "UeLpUDd2NQjd",
        "outputId": "d205e75c-03b6-4c51-e32d-c550013a0d4b"
      },
      "execution_count": 5,
      "outputs": [
        {
          "output_type": "stream",
          "name": "stdout",
          "text": [
            "[[0. 0. 0. 0. 0.]\n",
            " [0. 0. 0. 0. 0.]\n",
            " [0. 0. 0. 0. 0.]\n",
            " [0. 0. 0. 0. 0.]]\n"
          ]
        }
      ]
    },
    {
      "cell_type": "code",
      "source": [
        "y=np.ones((4,5))\n",
        "print(y)"
      ],
      "metadata": {
        "colab": {
          "base_uri": "https://localhost:8080/"
        },
        "id": "5eLXa7f5NqPY",
        "outputId": "9af78522-afbc-4e3f-e5a5-1dbf0d1ec01f"
      },
      "execution_count": 6,
      "outputs": [
        {
          "output_type": "stream",
          "name": "stdout",
          "text": [
            "[[1. 1. 1. 1. 1.]\n",
            " [1. 1. 1. 1. 1.]\n",
            " [1. 1. 1. 1. 1.]\n",
            " [1. 1. 1. 1. 1.]]\n"
          ]
        }
      ]
    },
    {
      "cell_type": "code",
      "source": [
        "z=np.full((5,4),5)\n",
        "print(z)"
      ],
      "metadata": {
        "colab": {
          "base_uri": "https://localhost:8080/"
        },
        "id": "dVHB9L5iOFaJ",
        "outputId": "80c69b74-40d0-4ca4-c0f8-09c8c5607eab"
      },
      "execution_count": 8,
      "outputs": [
        {
          "output_type": "stream",
          "name": "stdout",
          "text": [
            "[[5 5 5 5]\n",
            " [5 5 5 5]\n",
            " [5 5 5 5]\n",
            " [5 5 5 5]\n",
            " [5 5 5 5]]\n"
          ]
        }
      ]
    },
    {
      "cell_type": "code",
      "source": [
        "e=np.eye(5)\n",
        "print(e)"
      ],
      "metadata": {
        "colab": {
          "base_uri": "https://localhost:8080/"
        },
        "id": "Y7ga4sODOopI",
        "outputId": "4d50606f-bd27-47ab-94fc-b3a621f251bd"
      },
      "execution_count": 9,
      "outputs": [
        {
          "output_type": "stream",
          "name": "stdout",
          "text": [
            "[[1. 0. 0. 0. 0.]\n",
            " [0. 1. 0. 0. 0.]\n",
            " [0. 0. 1. 0. 0.]\n",
            " [0. 0. 0. 1. 0.]\n",
            " [0. 0. 0. 0. 1.]]\n"
          ]
        }
      ]
    },
    {
      "cell_type": "markdown",
      "source": [],
      "metadata": {
        "id": "Hnwgo4iOPTfe"
      }
    },
    {
      "cell_type": "markdown",
      "source": [
        "***pandas libraries***"
      ],
      "metadata": {
        "id": "gosmIkCDPWYe"
      }
    },
    {
      "cell_type": "code",
      "source": [
        "import pandas as pd\n",
        "\n",
        "data={\n",
        "    'name':[\"ash\",\"anu\",\"aadhi\"],\n",
        "    'age':[20,30,40],\n",
        "    'city':['bangalore']\n",
        "    }\n",
        "print(data)\n",
        "\n"
      ],
      "metadata": {
        "colab": {
          "base_uri": "https://localhost:8080/"
        },
        "id": "vWyakJ0WPbd2",
        "outputId": "92fd7e69-f03f-4dd9-953f-82846fa28cf4"
      },
      "execution_count": 16,
      "outputs": [
        {
          "output_type": "stream",
          "name": "stdout",
          "text": [
            "{'name': ['ash', 'anu', 'aadhi'], 'age': [20, 30, 40], 'city': ['bangalore']}\n"
          ]
        }
      ]
    },
    {
      "cell_type": "code",
      "source": [
        "data = {'Name': ['Alice', 'Bob'], 'Age': [25, 30]}\n",
        "\n",
        "df1=pd.DataFrame(data)\n",
        "#print(df1)\n",
        "#print(df1.info())\n",
        "#print(df1.describe())\n",
        "#print(df1.head())\n",
        "print(df1['Age'])"
      ],
      "metadata": {
        "colab": {
          "base_uri": "https://localhost:8080/"
        },
        "id": "HKJrBy5AX4tc",
        "outputId": "5a9ca9f3-cb8c-4102-ee66-e863b6f2ef73"
      },
      "execution_count": 15,
      "outputs": [
        {
          "output_type": "stream",
          "name": "stdout",
          "text": [
            "0    25\n",
            "1    30\n",
            "Name: Age, dtype: int64\n"
          ]
        }
      ]
    },
    {
      "cell_type": "code",
      "source": [
        "data = {'Name': ['Alice', 'Bob'], 'Age': [25, 30]}\n",
        "\n",
        "df1=pd.DataFrame(data)\n",
        "#print(df1)\n",
        "#print(df1.info())\n",
        "#print(df1.describe())\n",
        "#print(df1.head())\n",
        "print(df1['Age'])\n",
        "df1['Salary']=[5000,6000]\n",
        "print(df1)"
      ],
      "metadata": {
        "colab": {
          "base_uri": "https://localhost:8080/"
        },
        "id": "ajEL1ZxiYPpj",
        "outputId": "cf5bec45-3e2e-4e78-cf64-1006af19532d"
      },
      "execution_count": 17,
      "outputs": [
        {
          "output_type": "stream",
          "name": "stdout",
          "text": [
            "0    25\n",
            "1    30\n",
            "Name: Age, dtype: int64\n",
            "    Name  Age  Salary\n",
            "0  Alice   25    5000\n",
            "1    Bob   30    6000\n"
          ]
        }
      ]
    },
    {
      "cell_type": "markdown",
      "source": [
        "***matplotlib***"
      ],
      "metadata": {
        "id": "9qvWAr2pYtNF"
      }
    },
    {
      "cell_type": "code",
      "source": [
        "import matplotlib.pyplot as plt\n",
        "x=[1,2,3,4,5]\n",
        "y=[10,20,30,40,50]\n",
        "#create the plot using the above 2-D values\n",
        "plt.plot(x,y)\n",
        "plt.xlabel(\"Days\")\n",
        "plt.ylabel(\"marks\")"
      ],
      "metadata": {
        "colab": {
          "base_uri": "https://localhost:8080/",
          "height": 466
        },
        "id": "vn2W2PWaYwno",
        "outputId": "d161d503-0648-49eb-cd93-0902f81b09e8"
      },
      "execution_count": 20,
      "outputs": [
        {
          "output_type": "execute_result",
          "data": {
            "text/plain": [
              "Text(0, 0.5, 'marks')"
            ]
          },
          "metadata": {},
          "execution_count": 20
        },
        {
          "output_type": "display_data",
          "data": {
            "text/plain": [
              "<Figure size 640x480 with 1 Axes>"
            ],
            "image/png": "[encoded data removed]"
          },
          "metadata": {}
        }
      ]
    },
    {
      "cell_type": "code",
      "source": [],
      "metadata": {
        "id": "f9hqjiqtaHFk"
      },
      "execution_count": null,
      "outputs": []
    }
  ]
}